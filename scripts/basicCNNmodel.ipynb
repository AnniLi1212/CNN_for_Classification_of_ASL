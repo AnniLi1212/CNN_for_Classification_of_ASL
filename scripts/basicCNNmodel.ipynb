{
 "cells": [
  {
   "cell_type": "code",
   "execution_count": null,
   "metadata": {},
   "outputs": [],
   "source": [
    "import torch\n",
    "from torchvision.datasets import ImageFolder\n",
    "from torch.utils.data import random_split\n",
    "from torchvision.transforms import v2\n",
    "from torch.utils.data import DataLoader\n",
    "import torch.nn.functional as F\n",
    "import torch.nn as nn\n",
    "import torch.optim as optim\n",
    "from PIL import Image\n",
    "\n",
    "import matplotlib.pyplot as plt\n",
    "import numpy as np\n",
    "import math\n",
    "import time\n",
    "import os\n",
    "import glob\n",
    "import seaborn as sn\n",
    "import pandas as pd\n",
    "# !pip install mediapipe\n",
    "import mediapipe as mp\n",
    "\n",
    "from dataProcess import getDataLoader\n",
    "from dataProcess import plot_images\n",
    "from modelProcess import count_params\n",
    "from modelProcess import modelTrain\n",
    "from modelEvaluation import plotCurve\n",
    "from modelEvaluation import applyModeltoTest"
   ]
  },
  {
   "cell_type": "code",
   "execution_count": null,
   "metadata": {},
   "outputs": [],
   "source": [
    "# set up the device\n",
    "if torch.cuda.is_available():\n",
    "    device = torch.device('cuda')          \n",
    "    print(f'Using GPU: {torch.cuda.get_device_name(0)}')\n",
    "elif torch.backends.mps.is_built():\n",
    "    device = 'mps' \n",
    "    print(f'using {device}')\n",
    "else:\n",
    "    device = torch.device('cpu')\n",
    "    print(f'using {device}')"
   ]
  },
  {
   "cell_type": "code",
   "execution_count": null,
   "metadata": {},
   "outputs": [],
   "source": [
    "folder = 'data/asl_alphabet_train'\n",
    "loader_train, loader_val, loader_test=getDataLoader(folder,batch_size=32)"
   ]
  },
  {
   "cell_type": "code",
   "execution_count": null,
   "metadata": {},
   "outputs": [],
   "source": [
    "plot_images(loader_train,16)"
   ]
  },
  {
   "cell_type": "code",
   "execution_count": null,
   "metadata": {},
   "outputs": [],
   "source": [
    "plot_images(loader_test,16)"
   ]
  },
  {
   "cell_type": "code",
   "execution_count": null,
   "metadata": {},
   "outputs": [],
   "source": [
    "class BasicCNN(nn.Module):\n",
    "    def __init__(self):\n",
    "        super(BasicCNN, self).__init__()\n",
    "        \n",
    "        # block1, 200x200\n",
    "        self.conv1a = nn.Conv2d(3, 8, kernel_size=3, padding=1)\n",
    "        self.bn1a = nn.BatchNorm2d(8)\n",
    "        self.conv1b = nn.Conv2d(8, 16, kernel_size=3, padding=1)\n",
    "        self.bn1b = nn.BatchNorm2d(16)\n",
    "        self.pool1 = nn.MaxPool2d(kernel_size=2)\n",
    "        \n",
    "        # block2, 100x100\n",
    "        self.conv2a = nn.Conv2d(16, 32, kernel_size=3, padding=1)\n",
    "        self.bn2a = nn.BatchNorm2d(32)\n",
    "        self.conv2b = nn.Conv2d(32, 64, kernel_size=3, padding=1)\n",
    "        self.bn2b = nn.BatchNorm2d(64)\n",
    "        self.pool2 = nn.MaxPool2d(kernel_size=2)\n",
    "        \n",
    "        # block3, 50x50\n",
    "        self.conv3a = nn.Conv2d(64, 128, kernel_size=3, padding=1)\n",
    "        self.bn3a = nn.BatchNorm2d(128)\n",
    "        self.conv3b = nn.Conv2d(128, 128, kernel_size=3, padding=1)\n",
    "        self.bn3b = nn.BatchNorm2d(128)\n",
    "        self.pool3 = nn.MaxPool2d(kernel_size=5)\n",
    "\n",
    "        self.dropout = nn.Dropout2d(0.3)\n",
    "        \n",
    "        # linear layers, 25x25\n",
    "        self.fc1 = nn.Linear(128 * 10 * 10, 512)\n",
    "        self.fc2 = nn.Linear(512, 29)\n",
    "        \n",
    "        self.flatten = nn.Flatten()\n",
    "        \n",
    "        \n",
    "    def forward(self, x):\n",
    "        x = F.relu(self.bn1a(self.conv1a(x)))\n",
    "        x = F.relu(self.bn1b(self.conv1b(x)))\n",
    "        x = self.pool1(x)\n",
    "        \n",
    "        x = F.relu(self.bn2a(self.conv2a(x)))\n",
    "        x = F.relu(self.bn2b(self.conv2b(x)))\n",
    "        x = self.pool2(x)\n",
    "        \n",
    "        x = F.relu(self.bn3a(self.conv3a(x)))\n",
    "        x = F.relu(self.bn3b(self.conv3b(x)))\n",
    "        x = self.pool3(x)\n",
    "        \n",
    "        x = self.dropout(x)\n",
    "        \n",
    "        x = self.flatten(x)\n",
    "        \n",
    "        x = F.relu(self.fc1(x))\n",
    "        x = self.fc2(x)\n",
    "        \n",
    "        return x"
   ]
  },
  {
   "cell_type": "code",
   "execution_count": null,
   "metadata": {},
   "outputs": [],
   "source": [
    "model = BasicCNN()\n",
    "count_params(model)"
   ]
  },
  {
   "cell_type": "code",
   "execution_count": null,
   "metadata": {},
   "outputs": [],
   "source": [
    "num_epochs=20\n",
    "losses_train, accs_train, losses_val, accs_val, train_time=modelTrain(model=model,learning_rate=0.00015,num_epochs=num_epochs,loader_train=loader_train,loader_val=loader_val,device=device)\n",
    "train_time"
   ]
  },
  {
   "cell_type": "code",
   "execution_count": null,
   "metadata": {},
   "outputs": [],
   "source": [
    "plotCurve(num_epochs, losses_train, accs_train, losses_val, accs_val)"
   ]
  },
  {
   "cell_type": "code",
   "execution_count": null,
   "metadata": {},
   "outputs": [],
   "source": [
    "print(applyModeltoTest(model=model,loader_test=loader_test,device=device))"
   ]
  }
 ],
 "metadata": {
  "language_info": {
   "name": "python"
  }
 },
 "nbformat": 4,
 "nbformat_minor": 2
}
